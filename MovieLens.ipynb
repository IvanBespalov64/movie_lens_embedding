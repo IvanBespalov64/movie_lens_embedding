{
  "nbformat": 4,
  "nbformat_minor": 0,
  "metadata": {
    "colab": {
      "provenance": []
    },
    "kernelspec": {
      "name": "python3",
      "display_name": "Python 3"
    },
    "language_info": {
      "name": "python"
    }
  },
  "cells": [
    {
      "cell_type": "code",
      "execution_count": 1,
      "metadata": {
        "id": "mJ2uSq4KazzN"
      },
      "outputs": [],
      "source": [
        "import torch\n",
        "import torch.nn as nn\n",
        "\n",
        "import numpy as np\n",
        "import pandas as pd\n",
        "\n",
        "from tqdm import tqdm\n",
        "\n",
        "import gc"
      ]
    },
    {
      "cell_type": "code",
      "source": [
        "!wget https://files.grouplens.org/datasets/movielens/ml-latest.zip"
      ],
      "metadata": {
        "id": "p20K-14wbHmC"
      },
      "execution_count": 59,
      "outputs": []
    },
    {
      "cell_type": "code",
      "source": [
        "!unzip ml-latest.zip"
      ],
      "metadata": {
        "id": "frHRCvxvbQ9P"
      },
      "execution_count": 56,
      "outputs": []
    },
    {
      "cell_type": "code",
      "source": [
        "df = pd.read_csv('ml-latest/ratings.csv')"
      ],
      "metadata": {
        "id": "oC3o57xDcFwY"
      },
      "execution_count": 5,
      "outputs": []
    },
    {
      "cell_type": "code",
      "source": [
        "df.head()"
      ],
      "metadata": {
        "colab": {
          "base_uri": "https://localhost:8080/",
          "height": 206
        },
        "id": "m5M1XliPcTLH",
        "outputId": "af1806b3-9380-427e-d6b6-94ce1f1ef8e4"
      },
      "execution_count": 6,
      "outputs": [
        {
          "output_type": "execute_result",
          "data": {
            "text/plain": [
              "   userId  movieId  rating   timestamp\n",
              "0       1      307     3.5  1256677221\n",
              "1       1      481     3.5  1256677456\n",
              "2       1     1091     1.5  1256677471\n",
              "3       1     1257     4.5  1256677460\n",
              "4       1     1449     4.5  1256677264"
            ],
            "text/html": [
              "\n",
              "  <div id=\"df-5593f9fd-6dc5-4ffb-848f-cb573b742976\">\n",
              "    <div class=\"colab-df-container\">\n",
              "      <div>\n",
              "<style scoped>\n",
              "    .dataframe tbody tr th:only-of-type {\n",
              "        vertical-align: middle;\n",
              "    }\n",
              "\n",
              "    .dataframe tbody tr th {\n",
              "        vertical-align: top;\n",
              "    }\n",
              "\n",
              "    .dataframe thead th {\n",
              "        text-align: right;\n",
              "    }\n",
              "</style>\n",
              "<table border=\"1\" class=\"dataframe\">\n",
              "  <thead>\n",
              "    <tr style=\"text-align: right;\">\n",
              "      <th></th>\n",
              "      <th>userId</th>\n",
              "      <th>movieId</th>\n",
              "      <th>rating</th>\n",
              "      <th>timestamp</th>\n",
              "    </tr>\n",
              "  </thead>\n",
              "  <tbody>\n",
              "    <tr>\n",
              "      <th>0</th>\n",
              "      <td>1</td>\n",
              "      <td>307</td>\n",
              "      <td>3.5</td>\n",
              "      <td>1256677221</td>\n",
              "    </tr>\n",
              "    <tr>\n",
              "      <th>1</th>\n",
              "      <td>1</td>\n",
              "      <td>481</td>\n",
              "      <td>3.5</td>\n",
              "      <td>1256677456</td>\n",
              "    </tr>\n",
              "    <tr>\n",
              "      <th>2</th>\n",
              "      <td>1</td>\n",
              "      <td>1091</td>\n",
              "      <td>1.5</td>\n",
              "      <td>1256677471</td>\n",
              "    </tr>\n",
              "    <tr>\n",
              "      <th>3</th>\n",
              "      <td>1</td>\n",
              "      <td>1257</td>\n",
              "      <td>4.5</td>\n",
              "      <td>1256677460</td>\n",
              "    </tr>\n",
              "    <tr>\n",
              "      <th>4</th>\n",
              "      <td>1</td>\n",
              "      <td>1449</td>\n",
              "      <td>4.5</td>\n",
              "      <td>1256677264</td>\n",
              "    </tr>\n",
              "  </tbody>\n",
              "</table>\n",
              "</div>\n",
              "      <button class=\"colab-df-convert\" onclick=\"convertToInteractive('df-5593f9fd-6dc5-4ffb-848f-cb573b742976')\"\n",
              "              title=\"Convert this dataframe to an interactive table.\"\n",
              "              style=\"display:none;\">\n",
              "        \n",
              "  <svg xmlns=\"http://www.w3.org/2000/svg\" height=\"24px\"viewBox=\"0 0 24 24\"\n",
              "       width=\"24px\">\n",
              "    <path d=\"M0 0h24v24H0V0z\" fill=\"none\"/>\n",
              "    <path d=\"M18.56 5.44l.94 2.06.94-2.06 2.06-.94-2.06-.94-.94-2.06-.94 2.06-2.06.94zm-11 1L8.5 8.5l.94-2.06 2.06-.94-2.06-.94L8.5 2.5l-.94 2.06-2.06.94zm10 10l.94 2.06.94-2.06 2.06-.94-2.06-.94-.94-2.06-.94 2.06-2.06.94z\"/><path d=\"M17.41 7.96l-1.37-1.37c-.4-.4-.92-.59-1.43-.59-.52 0-1.04.2-1.43.59L10.3 9.45l-7.72 7.72c-.78.78-.78 2.05 0 2.83L4 21.41c.39.39.9.59 1.41.59.51 0 1.02-.2 1.41-.59l7.78-7.78 2.81-2.81c.8-.78.8-2.07 0-2.86zM5.41 20L4 18.59l7.72-7.72 1.47 1.35L5.41 20z\"/>\n",
              "  </svg>\n",
              "      </button>\n",
              "      \n",
              "  <style>\n",
              "    .colab-df-container {\n",
              "      display:flex;\n",
              "      flex-wrap:wrap;\n",
              "      gap: 12px;\n",
              "    }\n",
              "\n",
              "    .colab-df-convert {\n",
              "      background-color: #E8F0FE;\n",
              "      border: none;\n",
              "      border-radius: 50%;\n",
              "      cursor: pointer;\n",
              "      display: none;\n",
              "      fill: #1967D2;\n",
              "      height: 32px;\n",
              "      padding: 0 0 0 0;\n",
              "      width: 32px;\n",
              "    }\n",
              "\n",
              "    .colab-df-convert:hover {\n",
              "      background-color: #E2EBFA;\n",
              "      box-shadow: 0px 1px 2px rgba(60, 64, 67, 0.3), 0px 1px 3px 1px rgba(60, 64, 67, 0.15);\n",
              "      fill: #174EA6;\n",
              "    }\n",
              "\n",
              "    [theme=dark] .colab-df-convert {\n",
              "      background-color: #3B4455;\n",
              "      fill: #D2E3FC;\n",
              "    }\n",
              "\n",
              "    [theme=dark] .colab-df-convert:hover {\n",
              "      background-color: #434B5C;\n",
              "      box-shadow: 0px 1px 3px 1px rgba(0, 0, 0, 0.15);\n",
              "      filter: drop-shadow(0px 1px 2px rgba(0, 0, 0, 0.3));\n",
              "      fill: #FFFFFF;\n",
              "    }\n",
              "  </style>\n",
              "\n",
              "      <script>\n",
              "        const buttonEl =\n",
              "          document.querySelector('#df-5593f9fd-6dc5-4ffb-848f-cb573b742976 button.colab-df-convert');\n",
              "        buttonEl.style.display =\n",
              "          google.colab.kernel.accessAllowed ? 'block' : 'none';\n",
              "\n",
              "        async function convertToInteractive(key) {\n",
              "          const element = document.querySelector('#df-5593f9fd-6dc5-4ffb-848f-cb573b742976');\n",
              "          const dataTable =\n",
              "            await google.colab.kernel.invokeFunction('convertToInteractive',\n",
              "                                                     [key], {});\n",
              "          if (!dataTable) return;\n",
              "\n",
              "          const docLinkHtml = 'Like what you see? Visit the ' +\n",
              "            '<a target=\"_blank\" href=https://colab.research.google.com/notebooks/data_table.ipynb>data table notebook</a>'\n",
              "            + ' to learn more about interactive tables.';\n",
              "          element.innerHTML = '';\n",
              "          dataTable['output_type'] = 'display_data';\n",
              "          await google.colab.output.renderOutput(dataTable, element);\n",
              "          const docLink = document.createElement('div');\n",
              "          docLink.innerHTML = docLinkHtml;\n",
              "          element.appendChild(docLink);\n",
              "        }\n",
              "      </script>\n",
              "    </div>\n",
              "  </div>\n",
              "  "
            ]
          },
          "metadata": {},
          "execution_count": 6
        }
      ]
    },
    {
      "cell_type": "markdown",
      "source": [
        "### Рассмотрим диаграммы распределения"
      ],
      "metadata": {
        "id": "X2Xx0dSvMVsI"
      }
    },
    {
      "cell_type": "code",
      "source": [
        "df.rating.hist()"
      ],
      "metadata": {
        "colab": {
          "base_uri": "https://localhost:8080/",
          "height": 462
        },
        "id": "OY14f6FLMPyU",
        "outputId": "f9e00626-b48d-4fc2-bf04-afa3654bafa1"
      },
      "execution_count": 61,
      "outputs": [
        {
          "output_type": "execute_result",
          "data": {
            "text/plain": [
              "<Axes: >"
            ]
          },
          "metadata": {},
          "execution_count": 61
        },
        {
          "output_type": "display_data",
          "data": {
            "text/plain": [
              "<Figure size 640x480 with 1 Axes>"
            ],
            "image/png": "[encoded data removed]"
          },
          "metadata": {}
        }
      ]
    },
    {
      "cell_type": "markdown",
      "source": [
        "Оценки имеют смещенное распределение"
      ],
      "metadata": {
        "id": "FTNUn-AOMc0Z"
      }
    },
    {
      "cell_type": "code",
      "source": [
        "df.userId.hist()"
      ],
      "metadata": {
        "colab": {
          "base_uri": "https://localhost:8080/",
          "height": 462
        },
        "id": "ib0eWjBjMlMD",
        "outputId": "282b764e-ea82-4b58-aa79-128d2bb3619d"
      },
      "execution_count": 62,
      "outputs": [
        {
          "output_type": "execute_result",
          "data": {
            "text/plain": [
              "<Axes: >"
            ]
          },
          "metadata": {},
          "execution_count": 62
        },
        {
          "output_type": "display_data",
          "data": {
            "text/plain": [
              "<Figure size 640x480 with 1 Axes>"
            ],
            "image/png": "[encoded data removed]"
          },
          "metadata": {}
        }
      ]
    },
    {
      "cell_type": "markdown",
      "source": [
        "Информации по интеракции каждого пользователя примерно одинаково для каждого пользователя "
      ],
      "metadata": {
        "id": "3OI06gBoMo_2"
      }
    },
    {
      "cell_type": "code",
      "source": [
        "df.movieId.hist(bins=100)"
      ],
      "metadata": {
        "colab": {
          "base_uri": "https://localhost:8080/",
          "height": 462
        },
        "id": "UvYPbeSyM3f9",
        "outputId": "b7d64a6f-f63d-4cf3-e24f-fd61d6c2ec1c"
      },
      "execution_count": 64,
      "outputs": [
        {
          "output_type": "execute_result",
          "data": {
            "text/plain": [
              "<Axes: >"
            ]
          },
          "metadata": {},
          "execution_count": 64
        },
        {
          "output_type": "display_data",
          "data": {
            "text/plain": [
              "<Figure size 640x480 with 1 Axes>"
            ],
            "image/png": "[encoded data removed]"
          },
          "metadata": {}
        }
      ]
    },
    {
      "cell_type": "markdown",
      "source": [
        "Видно, что почти все интеракции приходятся на малый набор фильмов "
      ],
      "metadata": {
        "id": "z4sWgmI-M93x"
      }
    },
    {
      "cell_type": "markdown",
      "source": [
        "### Напишем обертку для датасета на pytorch\n"
      ],
      "metadata": {
        "id": "ucYsBvWpNNmE"
      }
    },
    {
      "cell_type": "code",
      "source": [
        "class MovieLensDataset(torch.utils.data.Dataset):\n",
        "    def __init__(self, rating_path):\n",
        "        df = pd.read_csv(rating_path)\n",
        "\n",
        "        self.X = torch.hstack([\n",
        "            torch.LongTensor(\n",
        "                df.userId.to_numpy()\n",
        "            ).reshape(df.shape[0], 1),\n",
        "            torch.LongTensor(\n",
        "                df.movieId.to_numpy()\n",
        "            ).reshape(df.shape[0], 1)\n",
        "        ])\n",
        "        self.y = torch.tensor(df.rating.to_numpy(), \n",
        "                              dtype=torch.float32)\n",
        "    \n",
        "    def __len__(self):\n",
        "        return self.y.shape[0]\n",
        "\n",
        "    def __getitem__(self, index):\n",
        "        return self.X[index], self.y[index]"
      ],
      "metadata": {
        "id": "MiMa0yRkbWJf"
      },
      "execution_count": 24,
      "outputs": []
    },
    {
      "cell_type": "code",
      "source": [
        "full_dataset = MovieLensDataset('ml-latest/ratings.csv')"
      ],
      "metadata": {
        "id": "_zmg8YxLeJvE"
      },
      "execution_count": 25,
      "outputs": []
    },
    {
      "cell_type": "markdown",
      "source": [
        "Разобьем данные на тренировочные и валидационные. Разбивать будем равновероятно, т.к. для каждого пользователя дано примерно равное количество записей об оценках"
      ],
      "metadata": {
        "id": "fQlqV7zoNUY9"
      }
    },
    {
      "cell_type": "code",
      "source": [
        "train_idx = np.random.choice(np.arange(len(full_dataset)), \n",
        "                             size=int(len(full_dataset) * 0.8),\n",
        "                             replace=False)\n",
        "val_idx = np.setdiff1d(np.arange(len(full_dataset)), train_idx)"
      ],
      "metadata": {
        "id": "mBBnKbgbbuV0"
      },
      "execution_count": 26,
      "outputs": []
    },
    {
      "cell_type": "code",
      "source": [
        "train_dataset = torch.utils.data.Subset(full_dataset, train_idx)\n",
        "val_dataset = torch.utils.data.Subset(full_dataset, val_idx)"
      ],
      "metadata": {
        "id": "IX5lsL1cf7Lo"
      },
      "execution_count": 28,
      "outputs": []
    },
    {
      "cell_type": "code",
      "source": [
        "train_loader = torch.utils.data.DataLoader(train_dataset, batch_size=16384)\n",
        "val_loader = torch.utils.data.DataLoader(val_dataset, batch_size=16384)"
      ],
      "metadata": {
        "id": "4KGtWdOOgLZ3"
      },
      "execution_count": 50,
      "outputs": []
    },
    {
      "cell_type": "code",
      "source": [
        "num_users = df.userId.max() + 1\n",
        "num_movies = df.movieId.max() + 1\n",
        "num_users, num_movies"
      ],
      "metadata": {
        "colab": {
          "base_uri": "https://localhost:8080/"
        },
        "id": "oPk8R-Qcq_Ek",
        "outputId": "c5c75633-b8ee-4586-fc90-0e5304dd9e4d"
      },
      "execution_count": 30,
      "outputs": [
        {
          "output_type": "execute_result",
          "data": {
            "text/plain": [
              "(283229, 193887)"
            ]
          },
          "metadata": {},
          "execution_count": 30
        }
      ]
    },
    {
      "cell_type": "markdown",
      "source": [
        "* Напишем модель, которая будет учитсья строить эмбеддинги. Отельно для пользователя и фильма будем строить латентные вектора, которые затем будут для получения итоговой оценки скалярно перемножаться и пропускаться через линейный слой и ReLU (т.к. оценка положительна). \n",
        "\n",
        "* Латентные вектора будут получаться последовательным пропусканием через полносвязные слои с функциями активации. Так как количество переменных сопоставимо с количеством данных, модель будет склонна к переобучению. Добавим Dropout-слоев."
      ],
      "metadata": {
        "id": "PVnXutuwN4r6"
      }
    },
    {
      "cell_type": "code",
      "source": [
        "class RatingPredictor(nn.Module):\n",
        "    def __init__(self, num_users, num_movies, hidden_dim, ex_factor=4):\n",
        "        super(RatingPredictor, self).__init__()\n",
        "        self.u_emb = nn.Sequential(\n",
        "            nn.Embedding(num_users, hidden_dim),\n",
        "            nn.ReLU(),\n",
        "            nn.Dropout(0.3),\n",
        "            nn.Linear(hidden_dim, ex_factor*hidden_dim),\n",
        "            nn.ReLU(),\n",
        "            nn.Dropout(0.3),\n",
        "            nn.Linear(ex_factor*hidden_dim, hidden_dim)\n",
        "        )\n",
        "        self.m_emb = nn.Sequential(\n",
        "            nn.Embedding(num_movies, hidden_dim),\n",
        "            nn.ReLU(),\n",
        "            nn.Dropout(0.3),\n",
        "            nn.Linear(hidden_dim, ex_factor*hidden_dim),\n",
        "            nn.ReLU(),\n",
        "            nn.Dropout(0.3),\n",
        "            nn.Linear(ex_factor*hidden_dim, hidden_dim)\n",
        "        )\n",
        "\n",
        "        self.last_dropout = nn.Dropout(0.3)\n",
        "        self.last_fc = nn.Linear(1, 1)\n",
        "        self.last_relu = nn.ReLU()\n",
        "\n",
        "    def get_user_embedding(self, idx : int) -> torch.tensor:\n",
        "        \"\"\"\n",
        "            Returns embedding vector of user with `idx` id\n",
        "        \"\"\"\n",
        "\n",
        "        return self.u_emb(torch.LongTensor([idx]))\n",
        "\n",
        "    def get_movie_embedding(self, idx : int) -> torch.tensor:\n",
        "        \"\"\"\n",
        "            Returns embedding vector of movie with `idx` id\n",
        "        \"\"\"\n",
        "\n",
        "        return self.m_emb(torch.LongTensor([idx]))\n",
        "\n",
        "    def forward(self, X):\n",
        "        user_ids, movie_ids = X[:, 0], X[:, 1]\n",
        "        u_latent = self.u_emb(user_ids)\n",
        "        m_latent = self.m_emb(movie_ids)\n",
        "\n",
        "        res = self.last_relu(\n",
        "            self.last_fc(\n",
        "                self.last_dropout(\n",
        "                    torch.einsum(\"bkl,blk->bk\", [\n",
        "                        torch.unsqueeze(u_latent, 1),\n",
        "                        torch.unsqueeze(m_latent, -1)\n",
        "                    ])\n",
        "                )\n",
        "            )\n",
        "        )\n",
        "\n",
        "        return res"
      ],
      "metadata": {
        "id": "ZflLdJgPgdsh"
      },
      "execution_count": 70,
      "outputs": []
    },
    {
      "cell_type": "markdown",
      "source": [
        "Так как в модели для получения итогового скора мы используем скалярное произведение вектора пользователя на вектор фильма, в качестве метрики близости будем использовать косинусное расстояние, поскольку именно отношение скалярного произведения к нормам векторов понимается под косинусом между многомерными векторами в $R^n$.\n"
      ],
      "metadata": {
        "id": "Sj1M8NDmSUtC"
      }
    },
    {
      "cell_type": "code",
      "source": [
        "def get_similarity(user_vector : torch.tensor,\n",
        "                   movie_vector : torch.tensor) -> float:\n",
        "    \"\"\"\n",
        "        Returns similarity between user and vector\n",
        "    \"\"\"\n",
        "\n",
        "    return nn.CosineSimilarity()(user_vector, movie_vector).item()"
      ],
      "metadata": {
        "id": "sG7FqWTeTazN"
      },
      "execution_count": 89,
      "outputs": []
    },
    {
      "cell_type": "markdown",
      "source": [
        "Обучим модель при помощи Adam-оптимизатора. В качестве лосса возьмем MSE."
      ],
      "metadata": {
        "id": "P65VJRKBQBpG"
      }
    },
    {
      "cell_type": "code",
      "source": [
        "model = RatingPredictor(num_users, num_movies, 128)"
      ],
      "metadata": {
        "id": "BUXzOZdtivOA"
      },
      "execution_count": 83,
      "outputs": []
    },
    {
      "cell_type": "code",
      "source": [
        "optim = torch.optim.Adam(model.parameters(), lr=5e-4)\n",
        "criterion = nn.MSELoss()"
      ],
      "metadata": {
        "id": "c8PAc687raKH"
      },
      "execution_count": 84,
      "outputs": []
    },
    {
      "cell_type": "code",
      "source": [
        "train_loss = []\n",
        "val_loss = []\n",
        "\n",
        "num_epochs = 2\n",
        "\n",
        "for epoch in range(num_epochs):\n",
        "    cur_train_loss = []\n",
        "    cur_val_loss = []\n",
        "\n",
        "    model.train(True)\n",
        "    for X_batch, y_batch in tqdm(train_loader):\n",
        "        pred = model(X_batch)\n",
        "        loss = criterion(pred, y_batch)\n",
        "\n",
        "        loss.backward()\n",
        "        optim.step()\n",
        "        optim.zero_grad()\n",
        "\n",
        "        cur_train_loss.append(loss.item())\n",
        "        print(np.mean(cur_train_loss))\n",
        "\n",
        "    model.train(False)\n",
        "    for X_batch, y_batch in val_loader:\n",
        "        with torch.no_grad():\n",
        "            pred = model(X_batch)\n",
        "            loss = criterion(pred, y_batch)\n",
        "            cur_val_loss.append(loss.item())\n",
        "\n",
        "    train_loss.append(np.mean(cur_train_loss))\n",
        "    val_loss.append(np.mean(cur_val_loss))\n",
        "\n",
        "    if epoch % 5 == 0:\n",
        "        print(f\"Last train loss: {train_loss[-1]}; Last val loss: {val_loss[-1]}\")"
      ],
      "metadata": {
        "id": "oL9FsQO5rsZe"
      },
      "execution_count": 87,
      "outputs": []
    },
    {
      "cell_type": "markdown",
      "source": [
        "Запустив обучение, получим построенные эмбеддинги. Проверить работоспособность можно например следующим образом:"
      ],
      "metadata": {
        "id": "jRnhj_MfVNVu"
      }
    },
    {
      "cell_type": "code",
      "source": [
        "get_similarity(\n",
        "    model.get_user_embedding(1),\n",
        "    model.get_movie_embedding(307)\n",
        ")"
      ],
      "metadata": {
        "id": "s2SAU54UVMR6"
      },
      "execution_count": 91,
      "outputs": []
    }
  ]
}